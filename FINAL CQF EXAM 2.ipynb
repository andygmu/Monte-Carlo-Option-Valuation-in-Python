{
 "cells": [
  {
   "cell_type": "code",
   "execution_count": 1,
   "metadata": {},
   "outputs": [],
   "source": [
    "import numpy as np\n",
    "import math\n",
    "from pylab import plt\n",
    "plt.style.use('ggplot')\n",
    "%matplotlib inline\n",
    "import xlwt \n",
    "from xlwt import Workbook\n",
    "import statistics\n",
    "from scipy.stats import sem\n",
    "from random import randint\n",
    "from statistics import mean \n",
    "from scipy.stats import norm"
   ]
  },
  {
   "cell_type": "markdown",
   "metadata": {},
   "source": [
    "# Closed Form (Analytical) Valuations"
   ]
  },
  {
   "cell_type": "markdown",
   "metadata": {},
   "source": [
    "### Binary Analytical Closed From Solution"
   ]
  },
  {
   "cell_type": "code",
   "execution_count": 2,
   "metadata": {},
   "outputs": [],
   "source": [
    "def Analytic_Binary_Call_Price(S, K, T, r, sigma):\n",
    "    S = float(S)\n",
    "    \n",
    "    d1 = (np.log(S / K) + (r + 0.5 * sigma ** 2) * T) / (sigma * np.sqrt(T))\n",
    "    d2 = (np.log(S / K) + (r - 0.5 * sigma ** 2) * T) / (sigma * np.sqrt(T))\n",
    "    price = np.exp(-r * T) * norm.cdf(d2)\n",
    "    \n",
    "    return price"
   ]
  },
  {
   "cell_type": "code",
   "execution_count": 3,
   "metadata": {},
   "outputs": [
    {
     "data": {
      "text/plain": [
       "0.5323248154537634"
      ]
     },
     "execution_count": 3,
     "metadata": {},
     "output_type": "execute_result"
    }
   ],
   "source": [
    "Analytic_Binary_Call_Price(100,100,1,0.05,.20)"
   ]
  },
  {
   "cell_type": "code",
   "execution_count": 4,
   "metadata": {},
   "outputs": [],
   "source": [
    "def Analytic_Binary_Put_Price(S, K, T, r, sigma):\n",
    "    S = float(S)\n",
    "    \n",
    "    d1 = (np.log(S / K) + (r + 0.5 * sigma ** 2) * T) / (sigma * np.sqrt(T))\n",
    "    d2 = (np.log(S / K) + (r - 0.5 * sigma ** 2) * T) / (sigma * np.sqrt(T))\n",
    "    price = np.exp(-r * T) * norm.cdf(-d2)\n",
    "    \n",
    "    return price"
   ]
  },
  {
   "cell_type": "code",
   "execution_count": 5,
   "metadata": {},
   "outputs": [
    {
     "data": {
      "text/plain": [
       "0.41890460904695065"
      ]
     },
     "execution_count": 5,
     "metadata": {},
     "output_type": "execute_result"
    }
   ],
   "source": [
    "Analytic_Binary_Put_Price(100,100,1,0.05,.20)"
   ]
  },
  {
   "cell_type": "markdown",
   "metadata": {},
   "source": [
    "### Lookback Fixed Strike Analytical Closed From Solution"
   ]
  },
  {
   "cell_type": "code",
   "execution_count": 6,
   "metadata": {},
   "outputs": [
    {
     "data": {
      "text/plain": [
       "19.167625257332308"
      ]
     },
     "execution_count": 6,
     "metadata": {},
     "output_type": "execute_result"
    }
   ],
   "source": [
    "#CALL\n",
    "S=100\n",
    "K=100\n",
    "r=0.05\n",
    "sigma=0.2\n",
    "T=1\n",
    "\n",
    "d1 = (np.log(S / K) + (r + 0.5 * sigma ** 2) * T) / (sigma * np.sqrt(T))\n",
    "d2 = (np.log(S / K) + (r - 0.5 * sigma ** 2) * T) / (sigma * np.sqrt(T))\n",
    "\n",
    "AnalyticalLookbackFixedCall=S*norm.cdf(d1)-K*np.exp(-r*T)*norm.cdf(d2) + S*np.exp(-r*T)*((sigma**2)/(2*r))*(-(S/K)**((-2*r)/sigma**2)*norm.cdf(d1-(2*r*np.sqrt(T))/sigma)+np.exp(r*T)*norm.cdf(d1))\n",
    "AnalyticalLookbackFixedCall"
   ]
  },
  {
   "cell_type": "code",
   "execution_count": 7,
   "metadata": {},
   "outputs": [
    {
     "data": {
      "text/plain": [
       "12.339744687432272"
      ]
     },
     "execution_count": 7,
     "metadata": {},
     "output_type": "execute_result"
    }
   ],
   "source": [
    "#PUT\n",
    "S=100\n",
    "K=100\n",
    "r=0.05\n",
    "sigma=0.2\n",
    "T=1\n",
    "\n",
    "d1 = (np.log(S / K) + (r + 0.5 * sigma ** 2) * T) / (sigma * np.sqrt(T))\n",
    "d2 = (np.log(S / K) + (r - 0.5 * sigma ** 2) * T) / (sigma * np.sqrt(T))\n",
    "\n",
    "AnalyticalLookbackFixedPut=K*np.exp(-r*T)*norm.cdf(-d2)-S*norm.cdf(-d1) + S*np.exp(-r*T)*((sigma**2)/(2*r))*((S/K)**((-2*r)/sigma**2)*norm.cdf(-d1+(2*r*np.sqrt(T))/sigma)-np.exp(r*T)*norm.cdf(-d1))\n",
    "AnalyticalLookbackFixedPut"
   ]
  },
  {
   "cell_type": "markdown",
   "metadata": {},
   "source": [
    "### Lookback Floating Strike Analytical Closed From Solution"
   ]
  },
  {
   "cell_type": "code",
   "execution_count": 8,
   "metadata": {},
   "outputs": [
    {
     "data": {
      "text/plain": [
       "17.216802237360866"
      ]
     },
     "execution_count": 8,
     "metadata": {},
     "output_type": "execute_result"
    }
   ],
   "source": [
    "#CALL\n",
    "S=100\n",
    "Smin=100\n",
    "r=0.05\n",
    "sigma=0.2\n",
    "T=1\n",
    "\n",
    "d1 = (np.log(S / Smin) + (r + 0.5 * sigma ** 2) * T) / (sigma * np.sqrt(T))\n",
    "d2 = (np.log(S / Smin) + (r - 0.5 * sigma ** 2) * T) / (sigma * np.sqrt(T))\n",
    "\n",
    "AnalyticalLookbackFloatCall=S*norm.cdf(d1)-Smin*np.exp(-r*T)*norm.cdf(d2) + S*np.exp(-r*T)*((sigma**2)/(2*r))*((S/Smin)**((-2*r)/sigma**2)*norm.cdf(-d1+(2*r*np.sqrt(T))/sigma)-np.exp(r*T)*norm.cdf(-d1))\n",
    "AnalyticalLookbackFloatCall"
   ]
  },
  {
   "cell_type": "code",
   "execution_count": 9,
   "metadata": {},
   "outputs": [
    {
     "data": {
      "text/plain": [
       "14.290567707403714"
      ]
     },
     "execution_count": 9,
     "metadata": {},
     "output_type": "execute_result"
    }
   ],
   "source": [
    "#PUT\n",
    "S=100\n",
    "Smax=100\n",
    "r=0.05\n",
    "sigma=0.2\n",
    "T=1\n",
    "\n",
    "d1 = (np.log(S / Smax) + (r + 0.5 * sigma ** 2) * T) / (sigma * np.sqrt(T))\n",
    "d2 = (np.log(S / Smax) + (r - 0.5 * sigma ** 2) * T) / (sigma * np.sqrt(T))\n",
    "\n",
    "AnalyticalLookbackFloatPut=Smax*np.exp(-r*T)*norm.cdf(-d2)- S*norm.cdf(-d1)+ S*np.exp(-r*T)*((sigma**2)/(2*r))*(-(S/Smax)**((-2*r)/sigma**2)*norm.cdf(d1-(2*r*np.sqrt(T))/sigma)+np.exp(r*T)*norm.cdf(d1))\n",
    "AnalyticalLookbackFloatPut"
   ]
  },
  {
   "cell_type": "markdown",
   "metadata": {},
   "source": [
    "# Monte Carlo Functions"
   ]
  },
  {
   "cell_type": "markdown",
   "metadata": {},
   "source": [
    "### Regular Monte Carlo"
   ]
  },
  {
   "cell_type": "code",
   "execution_count": 10,
   "metadata": {},
   "outputs": [],
   "source": [
    "def MonteCarlo(S0,K,r,T,sigma,M,I,Payoff):\n",
    "    dt=T/M  #length of time step\n",
    "   \n",
    "    #create two dimensional matrix of random std normal numbers (paths X timesteps)\n",
    "    rn=np.random.standard_normal((M+1,I))\n",
    "    \n",
    "    #initialize S[0] to 100 stock price\n",
    "    S=np.zeros_like(rn)\n",
    "    S[0]=S0 \n",
    "    \n",
    "    #we want to iterate from 1 to M+1 so that the iteration reaches M, cus if we iterate till M, it will stop as soon as it reaches M without executing the M calculation.\n",
    "    for t in range(1,M+1): \n",
    "        S[t]=S[t-1]*np.exp((r-sigma**2/2)*dt+(sigma*rn[t]*math.sqrt(dt)))\n",
    "        \n",
    "    if Payoff=='BinaryCall':\n",
    "        PayoffBinaryCall=np.where(S[-1]>K,1,0)    \n",
    "        #Now Discount the Average of all payoffs\n",
    "        return math.exp(-r*T)*PayoffBinaryCall.mean()\n",
    "    \n",
    "    elif Payoff=='BinaryPut':\n",
    "        PayoffBinaryPut=np.where(S[-1]<K,1,0)\n",
    "        #Now Discount the Average of all payoffs\n",
    "        return math.exp(-r*T)*PayoffBinaryPut.mean()\n",
    "    \n",
    "    elif Payoff=='LookFixedCall':\n",
    "        PayoffLookFixedCall=np.zeros(I)\n",
    "        for t in range(0,I):\n",
    "            PayoffLookFixedCall[t]=np.maximum(max(S[:,t])-K,0)\n",
    "        #Now Discount the Average of all payoffs\n",
    "        return math.exp(-r*T)*PayoffLookFixedCall.mean()\n",
    "    \n",
    "    elif Payoff=='LookFixedPut':\n",
    "        PayoffLookFixedPut=np.zeros(I)\n",
    "        for t in range(0,I):\n",
    "            PayoffLookFixedPut[t]=np.maximum(K-min(S[:,t]),0)\n",
    "        #Now Discount the Average of all payoffs\n",
    "        return math.exp(-r*T)*PayoffLookFixedPut.mean() \n",
    "    \n",
    "    elif Payoff=='LookFloatCall':\n",
    "        PayoffLookFloatCall=np.zeros(I)\n",
    "        for t in range(0,I):\n",
    "            PayoffLookFloatCall[t]=np.maximum(S[-1,t]-min(S[:,t]),0)\n",
    "        #Now Discount the Average of all payoffs\n",
    "        return math.exp(-r*T)*PayoffLookFloatCall.mean()\n",
    "    \n",
    "    elif Payoff=='LookFloatPut':\n",
    "        PayoffLookFloatPut=np.zeros(I)\n",
    "        for t in range(0,I):\n",
    "            PayoffLookFloatPut[t]=np.maximum(max(S[:,t])-S[-1,t],0)\n",
    "        #Now Discount the Average of all payoffs\n",
    "        return math.exp(-r*T)*PayoffLookFloatPut.mean()"
   ]
  },
  {
   "cell_type": "markdown",
   "metadata": {},
   "source": [
    "### Monte Carlo with Antithetic (AVT) and Moment Matching (MMT) Variance Reduction Techniques"
   ]
  },
  {
   "cell_type": "code",
   "execution_count": 11,
   "metadata": {},
   "outputs": [],
   "source": [
    "def MonteCarloAntitheticANDMomentMatch(S0,K,r,T,sigma,M,I,Payoff):\n",
    "    dt=T/M  #length of time step\n",
    "   \n",
    "    #create two dimensional matrix of random std normal numbers (paths X timesteps)\n",
    "    rn=np.random.standard_normal((M+1,I))\n",
    "    \n",
    "    #create the negative(inverse) version\n",
    "    rn_minus=-rn\n",
    "\n",
    "    #Standardize the positive Random Set(rn):\n",
    "    rn=(rn-rn.mean())/rn.std()\n",
    "\n",
    "    #Standardize the negative Random Set(rn):\n",
    "    rn_minus=(rn_minus-rn_minus.mean())/rn_minus.std()\n",
    "    \n",
    "    #initialize S1[0] to 100 stock price\n",
    "    S1=np.zeros_like(rn)\n",
    "    S1[0]=S0 \n",
    "    \n",
    "    #initialize S2[0] to 100 stock price\n",
    "    S2=np.zeros_like(rn)\n",
    "    S2[0]=S0\n",
    "    \n",
    "    #Simulate Paths for S1\n",
    "    for t in range(1,M+1): \n",
    "        S1[t]=S1[t-1]*np.exp((r-sigma**2/2)*dt+(sigma*rn[t]*math.sqrt(dt)))\n",
    "        \n",
    "    #Simulate Paths for S2\n",
    "    for t in range(1,M+1): \n",
    "        S2[t]=S2[t-1]*np.exp((r-sigma**2/2)*dt+(sigma*rn_minus[t]*math.sqrt(dt)))\n",
    "        \n",
    "    if Payoff=='BinaryCall':\n",
    "        PayoffBinaryCall1=np.where(S1[-1]>K,1,0)\n",
    "        Call1=math.exp(-r*T)*PayoffBinaryCall1.mean()\n",
    "        PayoffBinaryCall2=np.where(S2[-1]>K,1,0)\n",
    "        Call2=math.exp(-r*T)*PayoffBinaryCall2.mean()\n",
    "        #Now Average Both Option Values\n",
    "        return (Call1+Call2)/2\n",
    "    \n",
    "    elif Payoff=='BinaryPut':\n",
    "        PayoffBinaryPut1=np.where(S1[-1]<K,1,0)\n",
    "        Put1=math.exp(-r*T)*PayoffBinaryPut1.mean()\n",
    "        PayoffBinaryPut2=np.where(S2[-1]<K,1,0)\n",
    "        Put2=math.exp(-r*T)*PayoffBinaryPut2.mean()\n",
    "        #Now Average Both Option Values\n",
    "        return (Put1+Put2)/2\n",
    "    \n",
    "    elif Payoff=='LookFixedCall':\n",
    "        PayoffLookFixedCall1=np.zeros(I)\n",
    "        for t in range(0,I):\n",
    "            PayoffLookFixedCall1[t]=np.maximum(max(S1[:,t])-K,0)\n",
    "        Call1=math.exp(-r*T)*PayoffLookFixedCall1.mean()\n",
    "        PayoffLookFixedCall2=np.zeros(I)\n",
    "        for t in range(0,I):\n",
    "            PayoffLookFixedCall2[t]=np.maximum(max(S2[:,t])-K,0)\n",
    "        Call2=math.exp(-r*T)*PayoffLookFixedCall2.mean()\n",
    "        #Now Average Both Option Values\n",
    "        return (Call1+Call2)/2\n",
    "    \n",
    "    elif Payoff=='LookFixedPut':\n",
    "        PayoffLookFixedPut1=np.zeros(I)\n",
    "        for t in range(0,I):\n",
    "            PayoffLookFixedPut1[t]=np.maximum(K-min(S1[:,t]),0)\n",
    "        Put1=math.exp(-r*T)*PayoffLookFixedPut1.mean()\n",
    "        PayoffLookFixedPut2=np.zeros(I)\n",
    "        for t in range(0,I):\n",
    "            PayoffLookFixedPut2[t]=np.maximum(K-min(S2[:,t]),0)\n",
    "        Put2=math.exp(-r*T)*PayoffLookFixedPut2.mean()\n",
    "        #Now Average Both Option Values\n",
    "        return (Put1+Put2)/2\n",
    "    \n",
    "    elif Payoff=='LookFloatCall':\n",
    "        PayoffLookFloatCall1=np.zeros(I)\n",
    "        for t in range(0,I):\n",
    "            PayoffLookFloatCall1[t]=np.maximum(S1[-1,t]-min(S1[:,t]),0)\n",
    "        Call1=math.exp(-r*T)*PayoffLookFloatCall1.mean()\n",
    "        PayoffLookFloatCall2=np.zeros(I)\n",
    "        for t in range(0,I):\n",
    "            PayoffLookFloatCall2[t]=np.maximum(S2[-1,t]-min(S2[:,t]),0)\n",
    "        Call2=math.exp(-r*T)*PayoffLookFloatCall2.mean()\n",
    "        #Now Average Both Option Values\n",
    "        return (Call1+Call2)/2        \n",
    "        \n",
    "    elif Payoff=='LookFloatPut':\n",
    "        PayoffLookFloatPut1=np.zeros(I)\n",
    "        for t in range(0,I):\n",
    "            PayoffLookFloatPut1[t]=np.maximum(max(S1[:,t])-S1[-1,t],0)\n",
    "        Put1=math.exp(-r*T)*PayoffLookFloatPut1.mean()\n",
    "        PayoffLookFloatPut2=np.zeros(I)\n",
    "        for t in range(0,I):\n",
    "            PayoffLookFloatPut2[t]=np.maximum(max(S2[:,t])-S2[-1,t],0)\n",
    "        Put2=math.exp(-r*T)*PayoffLookFloatPut2.mean()\n",
    "        #Now Average Both Option Values\n",
    "        return (Put1+Put2)/2"
   ]
  },
  {
   "cell_type": "markdown",
   "metadata": {},
   "source": [
    "# Part I: Binary Options"
   ]
  },
  {
   "cell_type": "markdown",
   "metadata": {},
   "source": [
    "### Binary Option Valuation with 100,000 Simulations"
   ]
  },
  {
   "cell_type": "code",
   "execution_count": 12,
   "metadata": {},
   "outputs": [
    {
     "data": {
      "text/plain": [
       "0.5324506703642746"
      ]
     },
     "execution_count": 12,
     "metadata": {},
     "output_type": "execute_result"
    }
   ],
   "source": [
    "#Call\n",
    "MonteCarlo(100,100,0.05,1.0,0.2,252,100000,'BinaryCall')"
   ]
  },
  {
   "cell_type": "code",
   "execution_count": 13,
   "metadata": {},
   "outputs": [
    {
     "data": {
      "text/plain": [
       "0.42120438916891617"
      ]
     },
     "execution_count": 13,
     "metadata": {},
     "output_type": "execute_result"
    }
   ],
   "source": [
    "#Put\n",
    "MonteCarlo(100,100,0.05,1.0,0.2,252,100000,'BinaryPut')"
   ]
  },
  {
   "cell_type": "markdown",
   "metadata": {},
   "source": [
    "### Binary Option Valuation with Different Number of Simulations"
   ]
  },
  {
   "cell_type": "code",
   "execution_count": 14,
   "metadata": {},
   "outputs": [],
   "source": [
    "# Workbook is created \n",
    "wb = Workbook()\n",
    "\n",
    "# add_sheet is used to create sheet. \n",
    "sheet1 = wb.add_sheet('Sheet 1') \n",
    "\n",
    "z=-1 # Counter\n",
    "for i in range(5000,1005000,5000):\n",
    "    z=z+1\n",
    "    \n",
    "    sheet1.write(z, 1, MonteCarlo(100,100,0.05,1.0,0.2,252,i,'BinaryCall'))\n",
    "wb.save('BinaryCall.xls')"
   ]
  },
  {
   "cell_type": "code",
   "execution_count": 15,
   "metadata": {},
   "outputs": [],
   "source": [
    "# Workbook is created \n",
    "wb = Workbook()\n",
    "\n",
    "# add_sheet is used to create sheet. \n",
    "sheet1 = wb.add_sheet('Sheet 1') \n",
    "\n",
    "z=-1 # Counter\n",
    "for i in range(5000,1005000,5000):\n",
    "    z=z+1\n",
    "    \n",
    "    sheet1.write(z, 1, MonteCarlo(100,100,0.05,1.0,0.2,252,i,'BinaryPut'))\n",
    "wb.save('BinaryPut.xls')"
   ]
  },
  {
   "cell_type": "markdown",
   "metadata": {},
   "source": [
    "### Variance Reduction Techniques: Antithetic Variable and Moment Matching"
   ]
  },
  {
   "cell_type": "code",
   "execution_count": 16,
   "metadata": {},
   "outputs": [],
   "source": [
    "# Workbook is created \n",
    "wb = Workbook()\n",
    "\n",
    "# add_sheet is used to create sheet. \n",
    "sheet1 = wb.add_sheet('Sheet 1') \n",
    "\n",
    "z=-1 # Counter\n",
    "for i in range(5000,1005000,5000):\n",
    "    z=z+1\n",
    "    \n",
    "    sheet1.write(z, 1, MonteCarloAntitheticANDMomentMatch(100,100,0.05,1.0,0.2,252,i,'BinaryCall'))\n",
    "wb.save('BinaryCall.xls')"
   ]
  },
  {
   "cell_type": "code",
   "execution_count": 17,
   "metadata": {},
   "outputs": [],
   "source": [
    "# Workbook is created \n",
    "wb = Workbook()\n",
    "\n",
    "# add_sheet is used to create sheet. \n",
    "sheet1 = wb.add_sheet('Sheet 1') \n",
    "\n",
    "z=-1 # Counter\n",
    "for i in range(5000,1005000,5000):\n",
    "    z=z+1\n",
    "    \n",
    "    sheet1.write(z, 1, MonteCarloAntitheticANDMomentMatch(100,100,0.05,1.0,0.2,252,i,'BinaryPut'))\n",
    "wb.save('BinaryPut.xls')"
   ]
  },
  {
   "cell_type": "markdown",
   "metadata": {},
   "source": [
    "# Part II: Lookback Options"
   ]
  },
  {
   "cell_type": "markdown",
   "metadata": {},
   "source": [
    "### Lookback Option Valuations with 100,000 Simulations"
   ]
  },
  {
   "cell_type": "code",
   "execution_count": 18,
   "metadata": {},
   "outputs": [
    {
     "data": {
      "text/plain": [
       "18.368286479002276"
      ]
     },
     "execution_count": 18,
     "metadata": {},
     "output_type": "execute_result"
    }
   ],
   "source": [
    "#Fixed Strike Call\n",
    "MonteCarlo(100,100,0.05,1.0,0.2,252,100000,'LookFixedCall')"
   ]
  },
  {
   "cell_type": "code",
   "execution_count": 19,
   "metadata": {},
   "outputs": [
    {
     "data": {
      "text/plain": [
       "11.712110374165988"
      ]
     },
     "execution_count": 19,
     "metadata": {},
     "output_type": "execute_result"
    }
   ],
   "source": [
    "#Fixed Strike Put\n",
    "MonteCarlo(100,100,0.05,1.0,0.2,252,100000,'LookFixedPut')"
   ]
  },
  {
   "cell_type": "code",
   "execution_count": 20,
   "metadata": {},
   "outputs": [
    {
     "data": {
      "text/plain": [
       "16.69195858705836"
      ]
     },
     "execution_count": 20,
     "metadata": {},
     "output_type": "execute_result"
    }
   ],
   "source": [
    "#Floating Strike Call\n",
    "MonteCarlo(100,100,0.05,1.0,0.2,252,100000,'LookFloatCall')"
   ]
  },
  {
   "cell_type": "code",
   "execution_count": 21,
   "metadata": {},
   "outputs": [
    {
     "data": {
      "text/plain": [
       "13.454667662496874"
      ]
     },
     "execution_count": 21,
     "metadata": {},
     "output_type": "execute_result"
    }
   ],
   "source": [
    "#Floating Strike Put\n",
    "MonteCarlo(100,100,0.05,1.0,0.2,252,100000,'LookFloatPut')"
   ]
  },
  {
   "cell_type": "markdown",
   "metadata": {},
   "source": [
    "### Lookback Option Valuation with Different Number of Simulations"
   ]
  },
  {
   "cell_type": "markdown",
   "metadata": {},
   "source": [
    "##### LOOKBACK FIXED STRIKE"
   ]
  },
  {
   "cell_type": "code",
   "execution_count": 22,
   "metadata": {},
   "outputs": [],
   "source": [
    "#CALL Regular\n",
    "# Workbook is created \n",
    "wb = Workbook()\n",
    "\n",
    "# add_sheet is used to create sheet. \n",
    "sheet1 = wb.add_sheet('Sheet 1') \n",
    "\n",
    "z=-1 # Counter\n",
    "for i in range(5000,505000,5000):\n",
    "    z=z+1\n",
    "    \n",
    "    sheet1.write(z, 1, MonteCarlo(100,100,0.05,1.0,0.2,252,i,'LookFixedCall'))\n",
    "wb.save('FixedCall.xls')"
   ]
  },
  {
   "cell_type": "code",
   "execution_count": 23,
   "metadata": {},
   "outputs": [],
   "source": [
    "#Call AVT&MMT\n",
    "# Workbook is created \n",
    "wb = Workbook()\n",
    "\n",
    "# add_sheet is used to create sheet. \n",
    "sheet1 = wb.add_sheet('Sheet 1') \n",
    "\n",
    "z=-1 # Counter\n",
    "for i in range(5000,505000,5000):\n",
    "    z=z+1\n",
    "    \n",
    "    sheet1.write(z, 1, MonteCarloAntitheticANDMomentMatch(100,100,0.05,1.0,0.2,252,i,'LookFixedCall'))\n",
    "wb.save('FixedCall.xls')"
   ]
  },
  {
   "cell_type": "code",
   "execution_count": 24,
   "metadata": {},
   "outputs": [],
   "source": [
    "#Put Regular\n",
    "# Workbook is created \n",
    "wb = Workbook()\n",
    "\n",
    "# add_sheet is used to create sheet. \n",
    "sheet1 = wb.add_sheet('Sheet 1') \n",
    "\n",
    "z=-1 # Counter\n",
    "for i in range(5000,505000,5000):\n",
    "    z=z+1\n",
    "    \n",
    "    sheet1.write(z, 1, MonteCarlo(100,100,0.05,1.0,0.2,252,i,'LookFixedPut'))\n",
    "wb.save('FixedPut.xls')"
   ]
  },
  {
   "cell_type": "code",
   "execution_count": 25,
   "metadata": {},
   "outputs": [],
   "source": [
    "#Put AVT&MMT\n",
    "# Workbook is created \n",
    "wb = Workbook()\n",
    "\n",
    "# add_sheet is used to create sheet. \n",
    "sheet1 = wb.add_sheet('Sheet 1') \n",
    "\n",
    "z=-1 # Counter\n",
    "for i in range(5000,505000,5000):\n",
    "    z=z+1\n",
    "    \n",
    "    sheet1.write(z, 1, MonteCarloAntitheticANDMomentMatch(100,100,0.05,1.0,0.2,252,i,'LookFixedPut'))\n",
    "wb.save('FixedPut.xls')"
   ]
  },
  {
   "cell_type": "markdown",
   "metadata": {},
   "source": [
    "##### LOOKBACK FLOATING STRIKE"
   ]
  },
  {
   "cell_type": "code",
   "execution_count": 26,
   "metadata": {},
   "outputs": [],
   "source": [
    "#CALL Regular\n",
    "# Workbook is created \n",
    "wb = Workbook()\n",
    "\n",
    "# add_sheet is used to create sheet. \n",
    "sheet1 = wb.add_sheet('Sheet 1') \n",
    "\n",
    "z=-1 # Counter\n",
    "for i in range(5000,505000,5000):\n",
    "    z=z+1\n",
    "    \n",
    "    sheet1.write(z, 1, MonteCarlo(100,100,0.05,1.0,0.2,252,i,'LookFloatCall'))\n",
    "wb.save('FloatCall.xls')"
   ]
  },
  {
   "cell_type": "code",
   "execution_count": 27,
   "metadata": {},
   "outputs": [],
   "source": [
    "#Call AVT&MMT\n",
    "# Workbook is created \n",
    "wb = Workbook()\n",
    "\n",
    "# add_sheet is used to create sheet. \n",
    "sheet1 = wb.add_sheet('Sheet 1') \n",
    "\n",
    "z=-1 # Counter\n",
    "for i in range(5000,505000,5000):\n",
    "    z=z+1\n",
    "    \n",
    "    sheet1.write(z, 1, MonteCarloAntitheticANDMomentMatch(100,100,0.05,1.0,0.2,252,i,'LookFloatCall'))\n",
    "wb.save('FloatCall.xls')"
   ]
  },
  {
   "cell_type": "code",
   "execution_count": 28,
   "metadata": {},
   "outputs": [],
   "source": [
    "#Put Regular\n",
    "# Workbook is created \n",
    "wb = Workbook()\n",
    "\n",
    "# add_sheet is used to create sheet. \n",
    "sheet1 = wb.add_sheet('Sheet 1') \n",
    "\n",
    "z=-1 # Counter\n",
    "for i in range(5000,505000,5000):\n",
    "    z=z+1\n",
    "    \n",
    "    sheet1.write(z, 1, MonteCarlo(100,100,0.05,1.0,0.2,252,i,'LookFloatPut'))\n",
    "wb.save('FloatPut.xls')"
   ]
  },
  {
   "cell_type": "code",
   "execution_count": 29,
   "metadata": {},
   "outputs": [],
   "source": [
    "#Put AVT&MMT\n",
    "# Workbook is created \n",
    "wb = Workbook()\n",
    "\n",
    "# add_sheet is used to create sheet. \n",
    "sheet1 = wb.add_sheet('Sheet 1') \n",
    "\n",
    "z=-1 # Counter\n",
    "for i in range(5000,505000,5000):\n",
    "    z=z+1\n",
    "    \n",
    "    sheet1.write(z, 1, MonteCarloAntitheticANDMomentMatch(100,100,0.05,1.0,0.2,252,i,'LookFloatPut'))\n",
    "wb.save('FloatPut.xls')"
   ]
  },
  {
   "cell_type": "markdown",
   "metadata": {},
   "source": [
    "### Lookback Option Valuation with Different Number of Time-Steps"
   ]
  },
  {
   "cell_type": "markdown",
   "metadata": {},
   "source": [
    "##### LOOKBACK FIXED STRIKE"
   ]
  },
  {
   "cell_type": "code",
   "execution_count": 30,
   "metadata": {},
   "outputs": [],
   "source": [
    "#CALL Regular\n",
    "# Workbook is created \n",
    "wb = Workbook()\n",
    "\n",
    "# add_sheet is used to create sheet. \n",
    "sheet1 = wb.add_sheet('Sheet 1') \n",
    "\n",
    "z=-1 # Counter\n",
    "for m in range(200,10200,200):\n",
    "    z=z+1\n",
    "    \n",
    "    sheet1.write(z, 1, MonteCarlo(100,100,0.05,1.0,0.2,m,50000,'LookFixedCall'))\n",
    "wb.save('FixedCall.xls')"
   ]
  },
  {
   "cell_type": "code",
   "execution_count": 31,
   "metadata": {},
   "outputs": [],
   "source": [
    "#Call AVT&MMT\n",
    "# Workbook is created \n",
    "wb = Workbook()\n",
    "\n",
    "# add_sheet is used to create sheet. \n",
    "sheet1 = wb.add_sheet('Sheet 1') \n",
    "\n",
    "z=-1 # Counter\n",
    "for m in range(200,10200,200):\n",
    "    z=z+1\n",
    "    \n",
    "    sheet1.write(z, 1, MonteCarloAntitheticANDMomentMatch(100,100,0.05,1.0,0.2,m,50000,'LookFixedCall'))\n",
    "wb.save('FixedCall.xls')"
   ]
  },
  {
   "cell_type": "code",
   "execution_count": 32,
   "metadata": {},
   "outputs": [],
   "source": [
    "#Put Regular\n",
    "# Workbook is created \n",
    "wb = Workbook()\n",
    "\n",
    "# add_sheet is used to create sheet. \n",
    "sheet1 = wb.add_sheet('Sheet 1') \n",
    "\n",
    "z=-1 # Counter\n",
    "for m in range(200,10200,200):\n",
    "    z=z+1\n",
    "    \n",
    "    sheet1.write(z, 1, MonteCarlo(100,100,0.05,1.0,0.2,m,50000,'LookFixedPut'))\n",
    "wb.save('FixedPut.xls')"
   ]
  },
  {
   "cell_type": "code",
   "execution_count": 33,
   "metadata": {},
   "outputs": [],
   "source": [
    "#Put AVT&MMT\n",
    "# Workbook is created \n",
    "wb = Workbook()\n",
    "\n",
    "# add_sheet is used to create sheet. \n",
    "sheet1 = wb.add_sheet('Sheet 1') \n",
    "\n",
    "z=-1 # Counter\n",
    "for m in range(200,10200,200):\n",
    "    z=z+1\n",
    "    \n",
    "    sheet1.write(z, 1, MonteCarloAntitheticANDMomentMatch(100,100,0.05,1.0,0.2,m,50000,'LookFixedPut'))\n",
    "wb.save('FixedPut.xls')"
   ]
  },
  {
   "cell_type": "markdown",
   "metadata": {},
   "source": [
    "##### LOOKBACK FLOATING STRIKE"
   ]
  },
  {
   "cell_type": "code",
   "execution_count": 34,
   "metadata": {},
   "outputs": [],
   "source": [
    "#CALL Regular\n",
    "# Workbook is created \n",
    "wb = Workbook()\n",
    "\n",
    "# add_sheet is used to create sheet. \n",
    "sheet1 = wb.add_sheet('Sheet 1') \n",
    "\n",
    "z=-1 # Counter\n",
    "for m in range(200,10200,200):\n",
    "    z=z+1\n",
    "    \n",
    "    sheet1.write(z, 1, MonteCarlo(100,100,0.05,1.0,0.2,m,50000,'LookFloatCall'))\n",
    "wb.save('FloatCall.xls')"
   ]
  },
  {
   "cell_type": "code",
   "execution_count": 35,
   "metadata": {},
   "outputs": [],
   "source": [
    "#Call AVT&MMT\n",
    "# Workbook is created \n",
    "wb = Workbook()\n",
    "\n",
    "# add_sheet is used to create sheet. \n",
    "sheet1 = wb.add_sheet('Sheet 1') \n",
    "\n",
    "z=-1 # Counter\n",
    "for m in range(200,10200,200):\n",
    "    z=z+1\n",
    "    \n",
    "    sheet1.write(z, 1, MonteCarloAntitheticANDMomentMatch(100,100,0.05,1.0,0.2,m,50000,'LookFloatCall'))\n",
    "wb.save('FloatCall.xls')"
   ]
  },
  {
   "cell_type": "code",
   "execution_count": 36,
   "metadata": {},
   "outputs": [],
   "source": [
    "#Put Regular\n",
    "# Workbook is created \n",
    "wb = Workbook()\n",
    "\n",
    "# add_sheet is used to create sheet. \n",
    "sheet1 = wb.add_sheet('Sheet 1') \n",
    "\n",
    "z=-1 # Counter\n",
    "for m in range(200,10200,200):\n",
    "    z=z+1\n",
    "    \n",
    "    sheet1.write(z, 1, MonteCarlo(100,100,0.05,1.0,0.2,m,50000,'LookFloatPut'))\n",
    "wb.save('FloatPut.xls')"
   ]
  },
  {
   "cell_type": "code",
   "execution_count": 37,
   "metadata": {},
   "outputs": [],
   "source": [
    "#Put AVT&MMT\n",
    "# Workbook is created \n",
    "wb = Workbook()\n",
    "\n",
    "# add_sheet is used to create sheet. \n",
    "sheet1 = wb.add_sheet('Sheet 1') \n",
    "\n",
    "z=-1 # Counter\n",
    "for m in range(200,10200,200):\n",
    "    z=z+1\n",
    "    \n",
    "    sheet1.write(z, 1, MonteCarloAntitheticANDMomentMatch(100,100,0.05,1.0,0.2,m,50000,'LookFloatPut'))\n",
    "wb.save('FloatPut.xls')"
   ]
  },
  {
   "cell_type": "markdown",
   "metadata": {},
   "source": [
    "# END"
   ]
  },
  {
   "cell_type": "code",
   "execution_count": null,
   "metadata": {},
   "outputs": [],
   "source": []
  }
 ],
 "metadata": {
  "kernelspec": {
   "display_name": "Python 3",
   "language": "python",
   "name": "python3"
  },
  "language_info": {
   "codemirror_mode": {
    "name": "ipython",
    "version": 3
   },
   "file_extension": ".py",
   "mimetype": "text/x-python",
   "name": "python",
   "nbconvert_exporter": "python",
   "pygments_lexer": "ipython3",
   "version": "3.7.2"
  }
 },
 "nbformat": 4,
 "nbformat_minor": 2
}
